{
 "cells": [
  {
   "cell_type": "markdown",
   "metadata": {},
   "source": [
    "# Processor to crop and register multiplane data\n",
    "* input:\n",
    "  *  path: path to 3D or 4D stack in tiff format\n",
    "  *  calpath: path to calibration file\n",
    "  *    \n",
    "* output:\n",
    "  *  4D stack, order\n",
    "  *  calibration file\n",
    "  *  processing log file\n"
   ]
  },
  {
   "cell_type": "code",
   "execution_count": null,
   "metadata": {},
   "outputs": [],
   "source": [
    "from multiplane import MultiplaneProcess\n",
    "# Initialize the MultiplaneProcess class\n",
    "proc = MultiplaneProcess()"
   ]
  },
  {
   "cell_type": "code",
   "execution_count": null,
   "metadata": {},
   "outputs": [],
   "source": [
    "# choose path via gui or direcit input  \n",
    "proc.select_data_directory(r'D:\\moritz\\PSFs\\20240813\\4speck_l642nm_dz100nm_2')"
   ]
  },
  {
   "cell_type": "code",
   "execution_count": null,
   "metadata": {},
   "outputs": [],
   "source": [
    "# get metadata if present\n",
    "proc.get_files_with_metadata()\n",
    "proc.get_metadata()"
   ]
  },
  {
   "cell_type": "code",
   "execution_count": null,
   "metadata": {},
   "outputs": [],
   "source": [
    "# activate logging\n",
    "proc.set_logging(True)\n",
    "#proc.load_calibration()\n",
    "proc.cal"
   ]
  },
  {
   "cell_type": "code",
   "execution_count": null,
   "metadata": {},
   "outputs": [],
   "source": [
    "proc.calibrate(is_bead = False)"
   ]
  },
  {
   "cell_type": "code",
   "execution_count": null,
   "metadata": {},
   "outputs": [],
   "source": [
    "proc.check_calibration()"
   ]
  },
  {
   "cell_type": "code",
   "execution_count": null,
   "metadata": {},
   "outputs": [],
   "source": [
    "proc.execute()"
   ]
  },
  {
   "cell_type": "code",
   "execution_count": null,
   "metadata": {},
   "outputs": [],
   "source": [
    "from multiplane import MultiplaneProcess\n",
    "# Initialize the MultiplaneProcess class\n",
    "proc = MultiplaneProcess()\n",
    "proc.select_data_directory(r'C:\\Users\\mengelhardt\\data\\local\\KINETIX_4speck_642_2\\cal_data')\n",
    "proc.get_files_with_metadata()\n",
    "# activate logging\n",
    "proc.set_logging(True)\n",
    "stack = proc.load_data()\n",
    "stack = stack[:,50:-50:4,:,:]\n",
    "#stack = stack[:,250:305,:,:]\n",
    "\n",
    "stack.shape\n"
   ]
  },
  {
   "cell_type": "code",
   "execution_count": null,
   "metadata": {},
   "outputs": [],
   "source": [
    "tracks = proc.estimate_interplane_distance(stack)"
   ]
  },
  {
   "cell_type": "code",
   "execution_count": null,
   "metadata": {},
   "outputs": [],
   "source": [
    "import matplotlib.pyplot as plt\n",
    "import numpy as np"
   ]
  },
  {
   "cell_type": "code",
   "execution_count": null,
   "metadata": {},
   "outputs": [],
   "source": [
    "plt.plot(np.mean(tracks[3]))"
   ]
  },
  {
   "cell_type": "code",
   "execution_count": null,
   "metadata": {},
   "outputs": [],
   "source": [
    "for i in tracks.keys():\n",
    "    plt.plot(np.mean(tracks[i][:,:,3], axis=0))"
   ]
  },
  {
   "cell_type": "code",
   "execution_count": null,
   "metadata": {},
   "outputs": [],
   "source": [
    "f = plt.figure\n",
    "tidx = 3\n",
    "for t in range(tracks[tidx].shape[0]):\n",
    "    plt.plot(tracks[tidx][t,:,3])"
   ]
  },
  {
   "cell_type": "code",
   "execution_count": null,
   "metadata": {},
   "outputs": [],
   "source": [
    "f = plt.figure\n",
    "tidx = 3\n",
    "for t in range(tracks[tidx].shape[0]):\n",
    "    plt.scatter(tracks[tidx][t,:,0], tracks[tidx][t,:,1])"
   ]
  },
  {
   "cell_type": "code",
   "execution_count": null,
   "metadata": {},
   "outputs": [],
   "source": [
    "f = plt.figure\n",
    "stack_idx = 3\n",
    "\n",
    "plt.imshow(np.max(stack[stack_idx,...], axis=0))\n",
    "for tr in tracks[stack_idx].values():\n",
    "    plt.scatter(tr[:,1], tr[:,0], s=1)"
   ]
  },
  {
   "cell_type": "code",
   "execution_count": null,
   "metadata": {},
   "outputs": [],
   "source": [
    "stack_idx = 3\n",
    "\n",
    "plt.imshow(np.max(stack[stack_idx,...], axis=0))\n",
    "for b in range(beadc.shape[0]):\n",
    "    plt.scatter(beadc[b,1], beadc[b,0], s=1)"
   ]
  },
  {
   "cell_type": "code",
   "execution_count": null,
   "metadata": {},
   "outputs": [],
   "source": [
    "tracks"
   ]
  }
 ],
 "metadata": {
  "kernelspec": {
   "display_name": "image-env",
   "language": "python",
   "name": "python3"
  },
  "language_info": {
   "codemirror_mode": {
    "name": "ipython",
    "version": 3
   },
   "file_extension": ".py",
   "mimetype": "text/x-python",
   "name": "python",
   "nbconvert_exporter": "python",
   "pygments_lexer": "ipython3",
   "version": "3.11.4"
  }
 },
 "nbformat": 4,
 "nbformat_minor": 2
}
