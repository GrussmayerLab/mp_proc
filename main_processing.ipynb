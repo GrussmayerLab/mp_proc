{
 "cells": [
  {
   "cell_type": "markdown",
   "metadata": {},
   "source": [
    "# Processor to crop and register multiplane data\n",
    "* input:\n",
    "  *  path: path to 3D or 4D stack in tiff format\n",
    "  *  calpath: path to calibration file\n",
    "  *    \n",
    "* output:\n",
    "  *  4D stack, order\n",
    "  *  calibration file\n",
    "  *  processing log file\n"
   ]
  },
  {
   "cell_type": "code",
   "execution_count": null,
   "metadata": {},
   "outputs": [],
   "source": [
    "from multiplane import MultiplaneProcess\n",
    "# Initialize the MultiplaneProcess class"
   ]
  },
  {
   "cell_type": "code",
   "execution_count": null,
   "metadata": {},
   "outputs": [],
   "source": [
    "proc = MultiplaneProcess()# choose path via gui or direct input  \n",
    "proc.select_data_directory()"
   ]
  },
  {
   "cell_type": "code",
   "execution_count": null,
   "metadata": {},
   "outputs": [],
   "source": [
    "# get metadata if present\n",
    "proc.get_files_with_metadata()\n",
    "proc.get_metadata()\n",
    "proc.update_metadata()"
   ]
  },
  {
   "cell_type": "code",
   "execution_count": null,
   "metadata": {},
   "outputs": [],
   "source": [
    "proc.P['nplanes']= 8\n",
    "#proc.P['order_default']= [3,2,1,0,4,5,6,7] \n",
    "proc.P['use_projection'] = 'median' \n",
    "proc.P['padding'] = -60 \n",
    "proc.P[\"apply_transform\"]= False\n",
    "proc.deskew_cam = False"
   ]
  },
  {
   "cell_type": "code",
   "execution_count": null,
   "metadata": {},
   "outputs": [],
   "source": [
    "# activate logging\n",
    "proc.set_logging(True)\n",
    "proc.save_individual = True\n",
    "#proc.load_calibration()        \n",
    "#proc.cal={}"
   ]
  },
  {
   "cell_type": "code",
   "execution_count": null,
   "metadata": {},
   "outputs": [],
   "source": [
    "proc.calibrate(is_bead = True)"
   ]
  },
  {
   "cell_type": "code",
   "execution_count": null,
   "metadata": {},
   "outputs": [],
   "source": [
    "proc.calibrate_sml()"
   ]
  },
  {
   "cell_type": "code",
   "execution_count": null,
   "metadata": {},
   "outputs": [],
   "source": [
    "proc.load_calibration()\n"
   ]
  },
  {
   "cell_type": "code",
   "execution_count": null,
   "metadata": {},
   "outputs": [],
   "source": [
    "proc.save_individual = False\n",
    "proc.P['apply_transform'] = True\n",
    "proc.P['dF_batch']=500 #frames, framebatch_size default\n",
    "proc.execute()"
   ]
  },
  {
   "cell_type": "code",
   "execution_count": null,
   "metadata": {},
   "outputs": [],
   "source": []
  }
 ],
 "metadata": {
  "kernelspec": {
   "display_name": "Python 3",
   "language": "python",
   "name": "python3"
  },
  "language_info": {
   "codemirror_mode": {
    "name": "ipython",
    "version": 3
   },
   "file_extension": ".py",
   "mimetype": "text/x-python",
   "name": "python",
   "nbconvert_exporter": "python",
   "pygments_lexer": "ipython3",
   "version": "3.11.4"
  }
 },
 "nbformat": 4,
 "nbformat_minor": 2
}
