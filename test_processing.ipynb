{
 "cells": [
  {
   "cell_type": "markdown",
   "metadata": {},
   "source": [
    "# TEST NOTEBOOK \n",
    "for exploration to keep mainscript clean  \n"
   ]
  },
  {
   "cell_type": "code",
   "execution_count": null,
   "metadata": {},
   "outputs": [],
   "source": [
    "from multiplane import MultiplaneProcess\n",
    "# Initialize the MultiplaneProcess class\n",
    "proc = MultiplaneProcess()\n",
    "proc.select_data_directory(r'C:\\Users\\mengelhardt\\data\\local\\KINETIX_4speck_642_2\\cal_data')\n",
    "proc.get_files_with_metadata()\n",
    "\n",
    "# activate logging\n",
    "proc.set_logging(True)\n",
    "stack = proc.load_data()\n",
    "stack = stack[:,50:-50:8,:,:]\n",
    "#stack = stack[:,250:305,:,:]\n",
    "\n",
    "stack.shape\n"
   ]
  },
  {
   "cell_type": "code",
   "execution_count": null,
   "metadata": {},
   "outputs": [],
   "source": [
    "proc.calibrate(stack)"
   ]
  },
  {
   "cell_type": "code",
   "execution_count": null,
   "metadata": {},
   "outputs": [],
   "source": [
    "tracks = proc.estimate_interplane_distance(stack)"
   ]
  },
  {
   "cell_type": "code",
   "execution_count": null,
   "metadata": {},
   "outputs": [],
   "source": [
    "proc.cal"
   ]
  },
  {
   "cell_type": "code",
   "execution_count": 1,
   "metadata": {},
   "outputs": [],
   "source": [
    "import skimage as skim\n",
    "from multiplane_calibration import MultiplaneCalibration\n",
    "# Initialize the MultiplaneProcess class\n",
    "calib = MultiplaneCalibration()\n",
    "fname = r'C:\\Users\\mengelhardt\\data\\local\\KINETIX_4speck_642_2\\cal_data\\KINETIX_4speck_642_2_MMStack_Pos0.ome.tif'\n",
    "stack = skim.io.imread(fname)\n",
    "stack = stack[:,50:-50:8,:,:]\n"
   ]
  },
  {
   "cell_type": "code",
   "execution_count": null,
   "metadata": {},
   "outputs": [],
   "source": [
    "calib.estimate_interplane_distance(stack)"
   ]
  },
  {
   "cell_type": "code",
   "execution_count": null,
   "metadata": {},
   "outputs": [],
   "source": [
    "calib.get_transformation(stack)"
   ]
  },
  {
   "cell_type": "code",
   "execution_count": null,
   "metadata": {},
   "outputs": [],
   "source": [
    "calib.transform"
   ]
  },
  {
   "cell_type": "code",
   "execution_count": null,
   "metadata": {},
   "outputs": [],
   "source": [
    "stack.shape\n",
    "stack_test = stack.copy()\n",
    "stack_test[0,...] = stack[2,...] \n",
    "stack_test[2,...] = stack[0,...]  \n",
    "calib.estimate_interplane_distance(stack_test)\n",
    "calib.get_transformation(stack_test)\n",
    "stack_out = calib.apply_transformation(stack_test)"
   ]
  },
  {
   "cell_type": "code",
   "execution_count": null,
   "metadata": {},
   "outputs": [],
   "source": [
    "calib.display_transformations()"
   ]
  },
  {
   "cell_type": "code",
   "execution_count": null,
   "metadata": {},
   "outputs": [],
   "source": [
    "import matplotlib.pyplot as plt\n",
    "import numpy as np\n",
    "s = 2\n",
    "fig, (ax1, ax2, ax3, ax4) = plt.subplots(1,4, figsize=(20,15))\n",
    "ax1.imshow(np.max(stack_test[0,...], axis=0))\n",
    "ax2.imshow(np.max(stack_test[1,...], axis=0))\n",
    "ax3.imshow(np.max(stack_test[2,...], axis=0))\n",
    "ax4.imshow(np.max(stack_test[3,...], axis=0))\n"
   ]
  },
  {
   "cell_type": "code",
   "execution_count": null,
   "metadata": {},
   "outputs": [],
   "source": [
    "fig, (ax1, ax2, ax3, ax4) = plt.subplots(1,4, figsize=(20,15))\n",
    "ax1.imshow(np.max(stack[2,...], axis=0))\n",
    "ax2.imshow(np.max(stack[1,...], axis=0))\n",
    "ax3.imshow(np.max(stack[0,...], axis=0))\n",
    "ax4.imshow(np.max(stack[3,...], axis=0))"
   ]
  },
  {
   "cell_type": "code",
   "execution_count": null,
   "metadata": {},
   "outputs": [],
   "source": []
  },
  {
   "cell_type": "code",
   "execution_count": 1,
   "metadata": {},
   "outputs": [
    {
     "data": {
      "text/plain": [
       "(101, 2, 700, 1050)"
      ]
     },
     "execution_count": 1,
     "metadata": {},
     "output_type": "execute_result"
    }
   ],
   "source": [
    "from multiplane import MultiplaneProcess\n",
    "# Initialize the MultiplaneProcess class\n",
    "proc = MultiplaneProcess()\n",
    "#proc.select_data_directory(r'C:\\Users\\mengelhardt\\data\\local\\KINETIX_4speck_642_2\\cal_data')\n",
    "proc.select_data_directory(r'C:\\Users\\mengelhardt\\data\\local\\KINETIX_561_4speck_100nm_10')\n",
    "proc.get_files_with_metadata()\n",
    "proc.get_metadata()\n",
    "# activate logging\n",
    "proc.set_logging(True)\n",
    "stack = proc.load_data()\n",
    "stack.shape\n"
   ]
  },
  {
   "cell_type": "code",
   "execution_count": 2,
   "metadata": {},
   "outputs": [
    {
     "data": {
      "text/plain": [
       "{'KINETIX_561_4speck_100nm_10_MMStack_Pos0': {'Prefix': '\"KINETIX_561_4speck_100nm_10\"',\n",
       "  'UserName': '\"LocalAdmin\"',\n",
       "  'ProfileName': '\"Default User\"',\n",
       "  'MicroManagerVersion': '\"2.0.1 20230712\"',\n",
       "  'ComputerName': '\"TUD1003108\"',\n",
       "  'Directory': '\"D:\\\\\\\\moritz\\\\\\\\PSFs\\\\\\\\20240826\"',\n",
       "  'ChannelGroup': '\"\"',\n",
       "  'z-step_um': '0.09999999999999964',\n",
       "  'Interval_ms': '1.0',\n",
       "  'CustomIntervals_ms': '[]',\n",
       "  'TimeFirst': 'true',\n",
       "  'SlicesFirst': 'true',\n",
       "  'time': '1',\n",
       "  'position': '1',\n",
       "  'z': '101',\n",
       "  'Frames': '1',\n",
       "  'Positions': '1',\n",
       "  'Slices': '101',\n",
       "  'Channels': '2',\n",
       "  'StartTime': '\"2024-08-26 17:49:34.413 +0200\"',\n",
       "  'KeepShutterOpenSlices': 'false',\n",
       "  'KeepShutterOpenChannels': 'false',\n",
       "  'PixelType': '\"GRAY16\"',\n",
       "  'Width': '0',\n",
       "  'Height': '0',\n",
       "  'type': '\"STRING\"'}}"
      ]
     },
     "execution_count": 2,
     "metadata": {},
     "output_type": "execute_result"
    }
   ],
   "source": [
    "proc.meta"
   ]
  },
  {
   "cell_type": "code",
   "execution_count": null,
   "metadata": {},
   "outputs": [],
   "source": [
    "proc.calibrate(is_bead=True)"
   ]
  },
  {
   "cell_type": "code",
   "execution_count": 3,
   "metadata": {},
   "outputs": [
    {
     "name": "stdout",
     "output_type": "stream",
     "text": [
      "No fields missing in calibration, proceeding\n",
      "Data Directory: C:\\Users\\mengelhardt\\data\\local\\KINETIX_561_4speck_100nm_10\n",
      "No fields missing in calibration, proceeding\n",
      "\n",
      " Loading file KINETIX_561_4speck_100nm_10_MMStack_Pos0 batch 0\n",
      "Rotating by skew angle...\n",
      "Rotating by skew angle...\n",
      "Registration of data...\n"
     ]
    },
    {
     "name": "stderr",
     "output_type": "stream",
     "text": [
      "Slice: 100%|██████████| 101/101 [00:03<00:00, 27.15it/s]3.72s/it]\n",
      "Slice: 100%|██████████| 101/101 [00:04<00:00, 24.18it/s]3.99s/it]\n",
      "Applying transform: 100%|██████████| 3/3 [00:11<00:00,  3.98s/it]\n",
      "Slice: 100%|██████████| 101/101 [00:04<00:00, 25.02it/s]\n"
     ]
    },
    {
     "name": "stdout",
     "output_type": "stream",
     "text": [
      "\n",
      " Loading file KINETIX_561_4speck_100nm_10_MMStack_Pos0 batch 1\n"
     ]
    }
   ],
   "source": [
    "stack=proc.load_data()\n",
    "proc.load_calibration()\n",
    "proc.execute()"
   ]
  },
  {
   "cell_type": "code",
   "execution_count": null,
   "metadata": {},
   "outputs": [],
   "source": [
    "proc.cal"
   ]
  },
  {
   "cell_type": "code",
   "execution_count": null,
   "metadata": {},
   "outputs": [],
   "source": []
  }
 ],
 "metadata": {
  "kernelspec": {
   "display_name": "image-env",
   "language": "python",
   "name": "image-env"
  },
  "language_info": {
   "codemirror_mode": {
    "name": "ipython",
    "version": 3
   },
   "file_extension": ".py",
   "mimetype": "text/x-python",
   "name": "python",
   "nbconvert_exporter": "python",
   "pygments_lexer": "ipython3",
   "version": "3.10.6"
  }
 },
 "nbformat": 4,
 "nbformat_minor": 2
}
